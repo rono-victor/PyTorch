{
 "cells": [
  {
   "attachments": {},
   "cell_type": "markdown",
   "metadata": {},
   "source": [
    "Workflow:\n",
    "0.libraries & device-agnostic\n",
    "1.data acqusition\n",
    "2.data preparation\n",
    "3. transforming data\n",
    "4. loading data with ImageFolder\n",
    "5. loading image data with a custom Dataset\n",
    "6.data augmentation\n",
    "7. Model 0: TinyVGG without data augmmentation\n",
    "8. explore loss curves\n",
    "9.Model 1 TinyVGG with data augmentation\n",
    "10. model results comparison\n",
    "11. prediction on a custom image\n",
    "\n"
   ]
  },
  {
   "cell_type": "code",
   "execution_count": 2,
   "metadata": {},
   "outputs": [],
   "source": [
    "import torch\n",
    "from torch import nn"
   ]
  },
  {
   "attachments": {},
   "cell_type": "markdown",
   "metadata": {},
   "source": [
    "1. Data acqusition"
   ]
  },
  {
   "cell_type": "code",
   "execution_count": null,
   "metadata": {},
   "outputs": [],
   "source": [
    "import requests\n",
    "import zipfile\n",
    "from pathlib import Path\n",
    "#setup path to data folder\n",
    "data_path = Path(\"data/\")\n",
    "image_path = data_path / \"pizza_steak_sushi\"\n",
    "#check image folder existence, if not create one&download&prepare it\n",
    "if image_path.is_dir():\n",
    "    print(f\"{image_path} directory exists.\")\n",
    "else:\n",
    "    print(f\"Did not find {image_path} directory, creating one...\")\n",
    "    image_path.mkdir(parents=True, exist_ok=True)\n",
    "    #download pizza, steak,sushi data\n",
    "    with open(data_path / \"pizza_steak_sushi.zip\", \"wb\") as f:\n",
    "        request = requests.get(\"https://github.com/mrdbourke/pytorch-deep-learning/raw/main/data/pizza_steak_sushi.zip\")\n",
    "        print(\"Downloading pizza, steak & sushi data...\")\n",
    "        f.write(request.content)\n",
    "    #unzip data\n",
    "    with zipfile.ZipFile(data_path / \"pizza_steak_sushi.zip\", \"r\") as zip_ref:\n",
    "        print(\"Unzipping pizza, steak, sushi data...<<don't start feeling hungry though:)\")\n",
    "        zip_ref.extractall(image_path)\n"
   ]
  },
  {
   "attachments": {},
   "cell_type": "markdown",
   "metadata": {},
   "source": [
    "2. Data Preparation"
   ]
  },
  {
   "cell_type": "code",
   "execution_count": null,
   "metadata": {},
   "outputs": [],
   "source": [
    "#inspect contents of the data dir\n",
    "import os \n",
    "def walk_through_dir(dir_path):\n",
    "for dirpath.dirnames, filenames in os.walk(dir_path):\n",
    "    print(f\"There are {len(dirnames)}.directories and {len(filenames)}images in '{dirpath}.\")\n"
   ]
  },
  {
   "cell_type": "code",
   "execution_count": null,
   "metadata": {},
   "outputs": [],
   "source": [
    "#setting up train and test paths\n",
    "train_dir = image_path / \"train\"\n",
    "test_dir = image_path / \"test\"\n",
    "train_dir, test_dir"
   ]
  },
  {
   "cell_type": "code",
   "execution_count": null,
   "metadata": {},
   "outputs": [],
   "source": [
    "#2.1 Visualize an image\n",
    "import random\n",
    "from PIL import Image\n",
    "random.seed(42)\n",
    "#1.getting all image paths\n",
    "image_path_list = list(image_path.glob(\"*/*/*.jpg\")) #* means \"any combination\"\n",
    "#2. get randomimage path\n",
    "random_image_path = random.choice(image_path_list)\n",
    "#3.get the name of the dir where image is stored\n",
    "image_class = random_image_path.parents.stem\n",
    "#4. Open image\n",
    "img = Image.open(random_image_path)\n",
    "#5. metadata\n",
    "print(f\"Random image path: {random_image_path}\")\n",
    "print(f\"Image class: {image_class}\")\n",
    "print(f\"Image height: {img.height}\")\n",
    "print(f\"Image width: {img.width}\")\n",
    "img"
   ]
  },
  {
   "attachments": {},
   "cell_type": "markdown",
   "metadata": {},
   "source": [
    "3. Transforming data\n"
   ]
  },
  {
   "cell_type": "code",
   "execution_count": null,
   "metadata": {},
   "outputs": [],
   "source": [
    "import torch\n",
    "from torch.utils.data import DataLoader\n",
    "from torchvision import datasets, disable_beta_transforms_warning"
   ]
  }
 ],
 "metadata": {
  "kernelspec": {
   "display_name": "img_detector",
   "language": "python",
   "name": "python3"
  },
  "language_info": {
   "codemirror_mode": {
    "name": "ipython",
    "version": 3
   },
   "file_extension": ".py",
   "mimetype": "text/x-python",
   "name": "python",
   "nbconvert_exporter": "python",
   "pygments_lexer": "ipython3",
   "version": "3.11.1"
  },
  "orig_nbformat": 4
 },
 "nbformat": 4,
 "nbformat_minor": 2
}
