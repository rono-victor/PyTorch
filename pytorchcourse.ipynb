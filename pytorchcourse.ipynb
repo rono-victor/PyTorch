{
 "cells": [
  {
   "attachments": {},
   "cell_type": "markdown",
   "metadata": {},
   "source": [
    "##Tensor job is to represent data in a numerical way\n"
   ]
  },
  {
   "cell_type": "code",
   "execution_count": 1,
   "metadata": {},
   "outputs": [
    {
     "data": {
      "text/plain": [
       "'2.0.1+cpu'"
      ]
     },
     "execution_count": 1,
     "metadata": {},
     "output_type": "execute_result"
    }
   ],
   "source": [
    "import torch\n",
    "torch.__version__\n"
   ]
  },
  {
   "attachments": {},
   "cell_type": "markdown",
   "metadata": {},
   "source": [
    "##Creating tensors\n",
    " A scalar = single number (zero dimension tensor)\n",
    " "
   ]
  },
  {
   "cell_type": "code",
   "execution_count": 2,
   "metadata": {},
   "outputs": [
    {
     "data": {
      "text/plain": [
       "tensor(7)"
      ]
     },
     "execution_count": 2,
     "metadata": {},
     "output_type": "execute_result"
    }
   ],
   "source": [
    "scalar = torch.tensor(7)\n",
    "scalar"
   ]
  },
  {
   "cell_type": "code",
   "execution_count": 3,
   "metadata": {},
   "outputs": [
    {
     "data": {
      "text/plain": [
       "0"
      ]
     },
     "execution_count": 3,
     "metadata": {},
     "output_type": "execute_result"
    }
   ],
   "source": [
    "#checking the dimension of the tensor\n",
    "scalar.ndim"
   ]
  },
  {
   "cell_type": "code",
   "execution_count": 4,
   "metadata": {},
   "outputs": [
    {
     "data": {
      "text/plain": [
       "7"
      ]
     },
     "execution_count": 4,
     "metadata": {},
     "output_type": "execute_result"
    }
   ],
   "source": [
    "#retrieve the python int number from the tensor\n",
    "scalar.item()"
   ]
  },
  {
   "attachments": {},
   "cell_type": "markdown",
   "metadata": {},
   "source": [
    "A vector = single dimension tensor (can contain many numbers)\n",
    "vector = flexible so as tensors"
   ]
  },
  {
   "cell_type": "code",
   "execution_count": 5,
   "metadata": {},
   "outputs": [
    {
     "data": {
      "text/plain": [
       "tensor([7, 7])"
      ]
     },
     "execution_count": 5,
     "metadata": {},
     "output_type": "execute_result"
    }
   ],
   "source": [
    "vector = torch.tensor([7,7])\n",
    "vector"
   ]
  },
  {
   "cell_type": "code",
   "execution_count": 6,
   "metadata": {},
   "outputs": [
    {
     "data": {
      "text/plain": [
       "1"
      ]
     },
     "execution_count": 6,
     "metadata": {},
     "output_type": "execute_result"
    }
   ],
   "source": [
    "#check dimensions of the vector\n",
    "vector.ndim"
   ]
  },
  {
   "cell_type": "code",
   "execution_count": 7,
   "metadata": {},
   "outputs": [
    {
     "data": {
      "text/plain": [
       "torch.Size([2])"
      ]
     },
     "execution_count": 7,
     "metadata": {},
     "output_type": "execute_result"
    }
   ],
   "source": [
    "#checking the shape of a vector\n",
    "#shape = how elements are arranged\n",
    "vector.shape"
   ]
  },
  {
   "cell_type": "code",
   "execution_count": 8,
   "metadata": {},
   "outputs": [
    {
     "data": {
      "text/plain": [
       "tensor([[ 7,  8],\n",
       "        [ 9, 10]])"
      ]
     },
     "execution_count": 8,
     "metadata": {},
     "output_type": "execute_result"
    }
   ],
   "source": [
    "#create matrix; 2-DIMENSIONAL ARRAY OF NUMBERS\n",
    "MATRIX = torch.tensor ([[7,8],[9,10]])\n",
    "MATRIX"
   ]
  },
  {
   "cell_type": "code",
   "execution_count": 9,
   "metadata": {},
   "outputs": [
    {
     "data": {
      "text/plain": [
       "tensor([[[1, 2, 3],\n",
       "         [3, 6, 9],\n",
       "         [2, 4, 5]]])"
      ]
     },
     "execution_count": 9,
     "metadata": {},
     "output_type": "execute_result"
    }
   ],
   "source": [
    "#creat a tensor. Tensors can rep almost anything\n",
    "#n-dimensional array of numbers\n",
    "TENSOR = torch.tensor([[[1,2,3],[3,6,9],[2,4,5]]])\n",
    "TENSOR"
   ]
  },
  {
   "cell_type": "code",
   "execution_count": 10,
   "metadata": {},
   "outputs": [
    {
     "data": {
      "text/plain": [
       "3"
      ]
     },
     "execution_count": 10,
     "metadata": {},
     "output_type": "execute_result"
    }
   ],
   "source": [
    "#dimensions go outer to inner\n",
    "TENSOR.ndim"
   ]
  },
  {
   "cell_type": "code",
   "execution_count": 11,
   "metadata": {},
   "outputs": [
    {
     "data": {
      "text/plain": [
       "torch.Size([1, 3, 3])"
      ]
     },
     "execution_count": 11,
     "metadata": {},
     "output_type": "execute_result"
    }
   ],
   "source": [
    "TENSOR.shape"
   ]
  },
  {
   "attachments": {},
   "cell_type": "markdown",
   "metadata": {},
   "source": [
    "Random tensors"
   ]
  },
  {
   "cell_type": "code",
   "execution_count": 12,
   "metadata": {},
   "outputs": [
    {
     "data": {
      "text/plain": [
       "(tensor([[0.6847, 0.3403, 0.5819, 0.1864],\n",
       "         [0.6509, 0.3528, 0.3933, 0.5422],\n",
       "         [0.2273, 0.1461, 0.4387, 0.4172]]),\n",
       " torch.float32)"
      ]
     },
     "execution_count": 12,
     "metadata": {},
     "output_type": "execute_result"
    }
   ],
   "source": [
    "#create a rando tensor of size(3,4)\n",
    "random_tensor = torch.rand(size=(3,4))\n",
    "random_tensor, random_tensor.dtype\n"
   ]
  },
  {
   "attachments": {},
   "cell_type": "markdown",
   "metadata": {},
   "source": [
    "Zeros and ones\n",
    "mask some of the values in one tensor = model don't learn"
   ]
  },
  {
   "cell_type": "code",
   "execution_count": 13,
   "metadata": {},
   "outputs": [
    {
     "data": {
      "text/plain": [
       "(tensor([[0., 0., 0., 0.],\n",
       "         [0., 0., 0., 0.],\n",
       "         [0., 0., 0., 0.]]),\n",
       " torch.float32)"
      ]
     },
     "execution_count": 13,
     "metadata": {},
     "output_type": "execute_result"
    }
   ],
   "source": [
    "zeros = torch.zeros(size=(3,4))\n",
    "zeros, zeros.dtype"
   ]
  },
  {
   "attachments": {},
   "cell_type": "markdown",
   "metadata": {},
   "source": [
    "creating a range and tensors\n",
    " use  --->> torch.arange(start,end,step)"
   ]
  },
  {
   "cell_type": "code",
   "execution_count": 14,
   "metadata": {},
   "outputs": [
    {
     "data": {
      "text/plain": [
       "tensor([0.0000, 0.2500, 0.5000, 0.7500, 1.0000, 1.2500, 1.5000, 1.7500, 2.0000,\n",
       "        2.2500, 2.5000, 2.7500, 3.0000, 3.2500, 3.5000, 3.7500, 4.0000, 4.2500,\n",
       "        4.5000, 4.7500, 5.0000, 5.2500, 5.5000, 5.7500, 6.0000, 6.2500, 6.5000,\n",
       "        6.7500, 7.0000, 7.2500, 7.5000, 7.7500])"
      ]
     },
     "execution_count": 14,
     "metadata": {},
     "output_type": "execute_result"
    }
   ],
   "source": [
    "zero_eight = torch.arange(0, 8,0.25)\n",
    "zero_eight"
   ]
  },
  {
   "attachments": {},
   "cell_type": "markdown",
   "metadata": {},
   "source": [
    "##Tensor datatypes\n",
    "\n",
    "some = specific for cpu,others better for gpu"
   ]
  },
  {
   "cell_type": "code",
   "execution_count": 15,
   "metadata": {},
   "outputs": [
    {
     "name": "stdout",
     "output_type": "stream",
     "text": [
      "tensor([[0.1760, 0.0074, 0.5071, 0.3328],\n",
      "        [0.4276, 0.0189, 0.8798, 0.3484],\n",
      "        [0.4688, 0.1342, 0.0928, 0.7534]])\n",
      "shape of the tensor: torch.Size([3, 4])\n",
      "datatype of the tensor: torch.float32\n",
      "device tensor is stored on:cpu\n"
     ]
    }
   ],
   "source": [
    "#getting information from tensors\n",
    "#most pytorch issues arise from the 3 attributes below\n",
    "#create a tensor\n",
    "tensor = torch.rand(3,4)\n",
    "print(tensor)\n",
    "print(f\"shape of the tensor: {tensor.shape}\")\n",
    "print(f\"datatype of the tensor: {tensor.dtype}\")\n",
    "print(f\"device tensor is stored on:{tensor.device}\")\n"
   ]
  },
  {
   "attachments": {},
   "cell_type": "markdown",
   "metadata": {},
   "source": [
    "##Manipulating tensors\n",
    "\n",
    "\n",
    "{addition, subraction,multiplication(element-wise), division,matrix multiplication}"
   ]
  },
  {
   "cell_type": "code",
   "execution_count": 16,
   "metadata": {},
   "outputs": [
    {
     "data": {
      "text/plain": [
       "(torch.Size([3]), tensor([1, 2, 3]))"
      ]
     },
     "execution_count": 16,
     "metadata": {},
     "output_type": "execute_result"
    }
   ],
   "source": [
    "#Matrix multiplication (most common operation)\n",
    "#for loops are computionally expensive\n",
    "#PyTorch implements in the torch.matmul()\n",
    "#@ is for matrix multiplication\n",
    "tensor = torch.tensor([1,2,3])\n",
    "tensor.shape, tensor"
   ]
  },
  {
   "cell_type": "code",
   "execution_count": 17,
   "metadata": {},
   "outputs": [
    {
     "name": "stdout",
     "output_type": "stream",
     "text": [
      "CPU times: total: 0 ns\n",
      "Wall time: 998 µs\n"
     ]
    },
    {
     "data": {
      "text/plain": [
       "tensor(14)"
      ]
     },
     "execution_count": 17,
     "metadata": {},
     "output_type": "execute_result"
    }
   ],
   "source": [
    "%%time\n",
    "tensor * tensor #element-wise \n",
    "tensor @ tensor #matrix mul"
   ]
  },
  {
   "cell_type": "code",
   "execution_count": 18,
   "metadata": {},
   "outputs": [
    {
     "name": "stdout",
     "output_type": "stream",
     "text": [
      "CPU times: total: 0 ns\n",
      "Wall time: 0 ns\n"
     ]
    },
    {
     "data": {
      "text/plain": [
       "tensor(14)"
      ]
     },
     "execution_count": 18,
     "metadata": {},
     "output_type": "execute_result"
    }
   ],
   "source": [
    "%%time\n",
    "torch.matmul(tensor,tensor)"
   ]
  },
  {
   "cell_type": "code",
   "execution_count": 19,
   "metadata": {},
   "outputs": [],
   "source": [
    "#two ways to transpose a matrix\n",
    "#1  torch.transpose(input, dim0,dim1) input= desired tensor to transpose, dim0&dim1 = dimensions to be swapped\n",
    "#2 tensor.T"
   ]
  },
  {
   "attachments": {},
   "cell_type": "markdown",
   "metadata": {},
   "source": [
    "Aggregation\n"
   ]
  },
  {
   "cell_type": "code",
   "execution_count": 20,
   "metadata": {},
   "outputs": [
    {
     "name": "stdout",
     "output_type": "stream",
     "text": [
      "minimum: 0\n",
      "index where min occurs: 0\n",
      "maximum: 90\n",
      "index where max occurs: 9\n",
      "sum: 450\n"
     ]
    }
   ],
   "source": [
    "x = torch.arange(0,100,10) #create  a tensor\n",
    "print(f\"minimum: {x.min()}\") #find min value in the tensor\n",
    "print(f\"index where min occurs: {x.argmin()}\")\n",
    "print(f\"maximum: {x.max()}\")#find max value in the tensor\n",
    "print(f\"index where max occurs: {x.argmax()}\")\n",
    "print(f\"sum: {x.sum()}\") #find sum of the tensor"
   ]
  },
  {
   "attachments": {},
   "cell_type": "markdown",
   "metadata": {},
   "source": [
    "Reshaping,stacking,squeezing and unsqueezing\n",
    "\n",
    "reshape or change dimensions without changing values"
   ]
  },
  {
   "cell_type": "code",
   "execution_count": 21,
   "metadata": {},
   "outputs": [
    {
     "data": {
      "text/plain": [
       "torch.Size([7])"
      ]
     },
     "execution_count": 21,
     "metadata": {},
     "output_type": "execute_result"
    }
   ],
   "source": [
    "#create a tensor\n",
    "x = torch.arange(1., 8)\n",
    "x.shape"
   ]
  },
  {
   "cell_type": "code",
   "execution_count": 22,
   "metadata": {},
   "outputs": [
    {
     "data": {
      "text/plain": [
       "(tensor([[1., 2., 3., 4., 5., 6., 7.]]), torch.Size([1, 7]))"
      ]
     },
     "execution_count": 22,
     "metadata": {},
     "output_type": "execute_result"
    }
   ],
   "source": [
    "#add an extra dim\n",
    "x_reshaped = x.reshape(1,7)\n",
    "x_reshaped, x_reshaped.shape"
   ]
  },
  {
   "cell_type": "code",
   "execution_count": 23,
   "metadata": {},
   "outputs": [
    {
     "data": {
      "text/plain": [
       "tensor([[1., 2., 3., 4., 5., 6., 7.],\n",
       "        [1., 2., 3., 4., 5., 6., 7.],\n",
       "        [1., 2., 3., 4., 5., 6., 7.]])"
      ]
     },
     "execution_count": 23,
     "metadata": {},
     "output_type": "execute_result"
    }
   ],
   "source": [
    "#stacking tensors\n",
    "x_stacked = torch.stack([x,x,x], dim = 0) #dim=0 stacks row-wise, dim = 1 stacks column-wise\n",
    "x_stacked"
   ]
  },
  {
   "cell_type": "code",
   "execution_count": 24,
   "metadata": {},
   "outputs": [
    {
     "name": "stdout",
     "output_type": "stream",
     "text": [
      "previous tensor: tensor([[1., 2., 3., 4., 5., 6., 7.]])\n",
      "previous shape: torch.Size([1, 7])\n",
      "nNew tensor: tensor([1., 2., 3., 4., 5., 6., 7.])\n",
      "New shape: torch.Size([7])\n"
     ]
    }
   ],
   "source": [
    "#torch.squeeze() #remove all single dimensions from a tensor\n",
    "#torch.unsqueeze() does the reverse\n",
    "print(f\"previous tensor: {x_reshaped}\")\n",
    "print(f\"previous shape: {x_reshaped.shape}\")\n",
    "#removing extra dimensions from x_reshaped\n",
    "x_squeezed = x_reshaped.squeeze()\n",
    "print(f\"nNew tensor: {x_squeezed}\")\n",
    "print(f\"New shape: {x_squeezed.shape}\")"
   ]
  },
  {
   "attachments": {},
   "cell_type": "markdown",
   "metadata": {},
   "source": [
    "PyTorch tensors & Numpy\n",
    "\n",
    "torch.from_numpy(ndarray)   Numpy array -->> PyTorch tensor\n",
    "torch.Tensor.numpy()  PyTorch tensor -->> Numpy array\n"
   ]
  },
  {
   "cell_type": "code",
   "execution_count": 25,
   "metadata": {},
   "outputs": [
    {
     "data": {
      "text/plain": [
       "(array([1., 2., 3., 4., 5., 6., 7.]),\n",
       " tensor([1., 2., 3., 4., 5., 6., 7.], dtype=torch.float64))"
      ]
     },
     "execution_count": 25,
     "metadata": {},
     "output_type": "execute_result"
    }
   ],
   "source": [
    "#numpy array to tensor\n",
    "import numpy as np\n",
    "array = np.arange(1.0,8.0)\n",
    "tensor = torch.from_numpy(array)\n",
    "array, tensor"
   ]
  },
  {
   "cell_type": "code",
   "execution_count": 26,
   "metadata": {},
   "outputs": [
    {
     "data": {
      "text/plain": [
       "tensor([1., 2., 3., 4., 5., 6., 7.])"
      ]
     },
     "execution_count": 26,
     "metadata": {},
     "output_type": "execute_result"
    }
   ],
   "source": [
    "#converting from numpy's default float64 to tensor's default float32\n",
    "tensor = torch.from_numpy(array).type(torch.float32)\n",
    "tensor\n"
   ]
  },
  {
   "cell_type": "code",
   "execution_count": 27,
   "metadata": {},
   "outputs": [
    {
     "data": {
      "text/plain": [
       "False"
      ]
     },
     "execution_count": 27,
     "metadata": {},
     "output_type": "execute_result"
    }
   ],
   "source": [
    "torch.cuda.is_available()"
   ]
  },
  {
   "cell_type": "code",
   "execution_count": 28,
   "metadata": {},
   "outputs": [
    {
     "data": {
      "text/plain": [
       "'cpu'"
      ]
     },
     "execution_count": 28,
     "metadata": {},
     "output_type": "execute_result"
    }
   ],
   "source": [
    "device = \"cuda\"if torch.cuda.is_available() else \"cpu\"\n",
    "device"
   ]
  },
  {
   "attachments": {},
   "cell_type": "markdown",
   "metadata": {},
   "source": [
    "#01 PyTorch Workflow Fundamentals"
   ]
  },
  {
   "cell_type": "code",
   "execution_count": 29,
   "metadata": {},
   "outputs": [],
   "source": [
    "to_be_covered =  {1: \"data(prepare and load)\",\n",
    "                  2:\"build model\",\n",
    "                  3:\"fit the model to the data\",\n",
    "                  4:\"make predictions and evaluate the model(inference)\",\n",
    "                  5: \"saving and loading a model\"  }"
   ]
  },
  {
   "cell_type": "code",
   "execution_count": 30,
   "metadata": {},
   "outputs": [],
   "source": [
    "#importing libraries\n",
    "import torch\n",
    "from torch import nn #contains pytorch's building blocks for neural networks\n",
    "import matplotlib.pyplot as plt\n"
   ]
  },
  {
   "attachments": {},
   "cell_type": "markdown",
   "metadata": {},
   "source": [
    "1. Data (Preparing&loading)\n",
    "\n",
    "\n",
    "Two parts of ML:\n",
    "    1. turn data into numbers (representation)\n",
    "    2. build a model to learn the representation\n",
    "\n",
    "use linear regression to create  data with known parameters and then use PyTorch to build a  model to estimate the parameters using gradient descent\n"
   ]
  },
  {
   "cell_type": "code",
   "execution_count": 31,
   "metadata": {},
   "outputs": [
    {
     "data": {
      "text/plain": [
       "(tensor([0.0000, 0.0200, 0.0400, 0.0600, 0.0800, 0.1000, 0.1200, 0.1400, 0.1600,\n",
       "         0.1800]),\n",
       " tensor([0.3000, 0.3140, 0.3280, 0.3420, 0.3560, 0.3700, 0.3840, 0.3980, 0.4120,\n",
       "         0.4260]))"
      ]
     },
     "execution_count": 31,
     "metadata": {},
     "output_type": "execute_result"
    }
   ],
   "source": [
    "#create known parametrs\n",
    "weight = 0.7\n",
    "bias = 0.3\n",
    "#create data\n",
    "start = 0\n",
    "end = 1\n",
    "step = 0.02\n",
    "X = torch.arange(start,end,step)#.unsqueeze(dim=1)\n",
    "Y = weight * X + bias\n",
    "X[:10],Y[:10]"
   ]
  },
  {
   "cell_type": "code",
   "execution_count": 32,
   "metadata": {},
   "outputs": [
    {
     "data": {
      "text/plain": [
       "(40, 40, 10, 10)"
      ]
     },
     "execution_count": 32,
     "metadata": {},
     "output_type": "execute_result"
    }
   ],
   "source": [
    "#Next, build a model that can larn the rlshp between X(features) and Y(labels)\n",
    "#spliting data into training and test sets\n",
    "train_split = int(0.8 * len(X))\n",
    "X_train, Y_train = X[:train_split],Y[:train_split]\n",
    "X_test, Y_test= X[train_split:], Y[train_split:]\n",
    "\n",
    "len(X_train), len(Y_train),  len(X_test), len(Y_test)"
   ]
  },
  {
   "cell_type": "code",
   "execution_count": 33,
   "metadata": {},
   "outputs": [],
   "source": [
    "#creating a function to visualize\n",
    "def plot_predictions (train_data = X_train,train_labels=Y_train,test_data=X_test,test_labels=Y_test,predictions=None):\n",
    "    plt.figure(figsize=(10,7))\n",
    "\n",
    "    #plotting training datain blue\n",
    "    plt.scatter(train_data, train_labels, c = \"b\", s=8,label =\"Training data\")\n",
    "\n",
    "    #plotting test data in green\n",
    "    plt.scatter(test_data, test_labels, c=\"g\", s =14,label=\"Testing data\")\n",
    "    if predictions is not None:\n",
    "        #plot predictions in red\n",
    "        plt.scatter(test_data, predictions, c =\"r\", s = 4, label=\"Predictions\")\n",
    "        plt.legend(prop={\"size\": 14});"
   ]
  },
  {
   "cell_type": "code",
   "execution_count": 34,
   "metadata": {},
   "outputs": [
    {
     "data": {
      "image/png": "[encoded data removed]",
      "text/plain": [
       "<Figure size 1000x700 with 1 Axes>"
      ]
     },
     "metadata": {},
     "output_type": "display_data"
    }
   ],
   "source": [
    "plot_predictions();"
   ]
  },
  {
   "attachments": {},
   "cell_type": "markdown",
   "metadata": {},
   "source": [
    "2. Building a model\n",
    "\n",
    "\n",
    "python model bulding essentials:\n",
    "        1. torch.nn\n",
    "            contains all of the building blocks for computional graphs\n",
    "                torch.nn.Parameter>>stores tensors that can be used with  nn.Module\n",
    "                torch,nn.Module>>> base class for all neural network modules\n",
    "        2. torch.optim\n",
    "            contains optimization algorithms(tell the model parameters stored in nn.Parameter how to best change to improve gradient descent and in turn reduce the loss)\n",
    "            def forward() method define the computations that will take place on the data passed to the particular nn.Module(e.g linear regression formulla above)\n",
    "        torch.utils.data.Dataset\n",
    "        torch.utils.data.Dataloader\n",
    "    nn.Module contains larger building blocks(layers)\n",
    "    nn.Parameter contains the smaller parameters (weights, biases)\n",
    "    forward()tells the larger blocks how to make calculations on inputs(tensors full of data) within nn.Module(s)\n",
    "    \n",
    "\n",
    "\n"
   ]
  },
  {
   "cell_type": "code",
   "execution_count": 35,
   "metadata": {},
   "outputs": [],
   "source": [
    "#creating a linear regression model class\n",
    "class LinearRegressionModel(nn.Module): #contains all the building blocks for neural networks\n",
    "    def __init__ (self):\n",
    "        super().__init__()\n",
    "        #Initialize model parameters\n",
    "        self.weights = nn.Parameter(torch.randn(1,dtype=torch.float), requires_grad=True)#startw random weights; update value with gradient descent\n",
    "        self.bias = nn.Parameter(torch.randn(1,dtype=torch.float), requires_grad=True) #startw random bias; update value with gradient descent\n",
    "#define the computation in the model\n",
    "def forward(self, X:torch.Tensor) ->torch.Tensor: #x is the input data(e.g training/testing features)\n",
    "    return self.weights*X+self.bias #linear regression formula"
   ]
  },
  {
   "cell_type": "code",
   "execution_count": 36,
   "metadata": {},
   "outputs": [],
   "source": [
    "###################################\n",
    "# Create a Linear Regression model class\n",
    "# <- almost everything in PyTorch is a nn.Module (think of this as neural network lego blocks)\n",
    "class LinearRegressionModel(nn.Module):\n",
    "    def __init__(self):\n",
    "        super().__init__()\n",
    "        self.weights = nn.Parameter(torch.randn(1,  # <- start with random weights (this will get adjusted as the model learns)\n",
    "                                                dtype=torch.float),  # <- PyTorch loves float32 by default\n",
    "                                    requires_grad=True)  # <- can we update this value with gradient descent?)\n",
    "\n",
    "        self.bias = nn.Parameter(torch.randn(1,  # <- start with random bias (this will get adjusted as the model learns)\n",
    "                                             dtype=torch.float),  # <- PyTorch loves float32 by default\n",
    "                                 requires_grad=True)  # <- can we update this value with gradient descent?))\n",
    "\n",
    "    # Forward defines the computation in the model\n",
    "    # <- \"x\" is the input data (e.g. training/testing features)\n",
    "    def forward(self, x: torch.Tensor) -> torch.Tensor:\n",
    "        # <- this is the linear regression formula (y = m*x + b)\n",
    "        return self.weights * x + self.bias\n"
   ]
  },
  {
   "cell_type": "code",
   "execution_count": 37,
   "metadata": {},
   "outputs": [
    {
     "data": {
      "text/plain": [
       "[Parameter containing:\n",
       " tensor([0.3367], requires_grad=True),\n",
       " Parameter containing:\n",
       " tensor([0.1288], requires_grad=True)]"
      ]
     },
     "execution_count": 37,
     "metadata": {},
     "output_type": "execute_result"
    }
   ],
   "source": [
    "torch.manual_seed(42) \n",
    "#creating an instance of the model (subclass  of nn.Module that contain nn parameter(s))\n",
    "model_0 = LinearRegressionModel()\n",
    "#check nn.Parameter(s) within nn.Module subclass just created\n",
    "list(model_0.parameters())"
   ]
  },
  {
   "cell_type": "code",
   "execution_count": 38,
   "metadata": {},
   "outputs": [
    {
     "data": {
      "text/plain": [
       "OrderedDict([('weights', tensor([0.3367])), ('bias', tensor([0.1288]))])"
      ]
     },
     "execution_count": 38,
     "metadata": {},
     "output_type": "execute_result"
    }
   ],
   "source": [
    "#listing the named parameters\n",
    "model_0.state_dict()"
   ]
  },
  {
   "attachments": {},
   "cell_type": "markdown",
   "metadata": {},
   "source": [
    "Making predictions using torch.inference_mode()"
   ]
  },
  {
   "cell_type": "code",
   "execution_count": 39,
   "metadata": {},
   "outputs": [],
   "source": [
    "with torch.inference_mode():\n",
    "    Y_preds = model_0(X_test)"
   ]
  },
  {
   "cell_type": "code",
   "execution_count": 40,
   "metadata": {},
   "outputs": [
    {
     "name": "stdout",
     "output_type": "stream",
     "text": [
      "number of testing samples: 10\n",
      "number of predictions mae: 10\n",
      "predicted values:\n",
      "tensor([0.3982, 0.4049, 0.4116, 0.4184, 0.4251, 0.4318, 0.4386, 0.4453, 0.4520,\n",
      "        0.4588])\n"
     ]
    }
   ],
   "source": [
    "#checking the predictions\n",
    "print(f\"number of testing samples: {len(X_test)}\")\n",
    "print(f\"number of predictions mae: {len(Y_preds)}\")\n",
    "print(f\"predicted values:\\n{Y_preds}\")"
   ]
  },
  {
   "cell_type": "code",
   "execution_count": 41,
   "metadata": {},
   "outputs": [
    {
     "data": {
      "image/png": "[encoded data removed]",
      "text/plain": [
       "<Figure size 1000x700 with 1 Axes>"
      ]
     },
     "metadata": {},
     "output_type": "display_data"
    }
   ],
   "source": [
    "#visualize the predictions\n",
    "plot_predictions(predictions = Y_preds)"
   ]
  },
  {
   "cell_type": "code",
   "execution_count": 42,
   "metadata": {},
   "outputs": [
    {
     "data": {
      "text/plain": [
       "tensor([0.4618, 0.4691, 0.4764, 0.4836, 0.4909, 0.4982, 0.5054, 0.5127, 0.5200,\n",
       "        0.5272])"
      ]
     },
     "execution_count": 42,
     "metadata": {},
     "output_type": "execute_result"
    }
   ],
   "source": [
    "Y_test - Y_preds"
   ]
  },
  {
   "cell_type": "code",
   "execution_count": 43,
   "metadata": {},
   "outputs": [],
   "source": [
    "#terrible predictions above:)\n",
    "#(model was just using random parameter values to make predictions).\n",
    "\n",
    "#Now train the model"
   ]
  },
  {
   "attachments": {},
   "cell_type": "markdown",
   "metadata": {},
   "source": [
    "3. Train model"
   ]
  },
  {
   "attachments": {},
   "cell_type": "markdown",
   "metadata": {},
   "source": [
    "creating a loss function and optimizer in PyTorch to enable the model to update its parameters autonomously\n",
    "\n",
    "loss function-->>>measures how wrong the model predictions are compared to the truth labels\n",
    "\n",
    "optimizer ---->>tells the model how to update its internal parameters to best lower the loss"
   ]
  },
  {
   "cell_type": "code",
   "execution_count": 44,
   "metadata": {},
   "outputs": [],
   "source": [
    "#creating the loss function\n",
    "loss_fn = nn.L1Loss() #i.e Mean AbsoluteError\n",
    "#creating the optimizer\n",
    "optimizer = torch.optim.SGD(params = model_0.parameters(), #parameters of target model to optimize\n",
    "lr =0.01) #SGD= Stochastic Gradient Descent"
   ]
  },
  {
   "cell_type": "code",
   "execution_count": 45,
   "metadata": {},
   "outputs": [],
   "source": [
    "#creating an optimization loop in PyTorch\n"
   ]
  },
  {
   "attachments": {},
   "cell_type": "markdown",
   "metadata": {},
   "source": [
    "PyTorch training loop\n",
    "\n",
    "1. forward pass\n",
    "2. calculate the loss\n",
    "3. zero gradients\n",
    "4. perform backpropagation on the loss\n",
    "5. gradient descent (update the optimizer)\n",
    "\n",
    "PyTorch testing loop\n",
    "1. Forward pass--->model goes through all of the training       data once, performing its forward () func calcs\n",
    "2. calculate the loss-->>predictions are compared to the ground truth and evaluated on how wrong they are\n",
    "3. calculate evaluation metrics --->>\n"
   ]
  },
  {
   "cell_type": "code",
   "execution_count": 46,
   "metadata": {},
   "outputs": [
    {
     "name": "stdout",
     "output_type": "stream",
     "text": [
      "Epoch: 0 | MAE Train Loss: 0.31288138031959534 |MAE Test Loss: 0.48106518387794495\n",
      "Epoch: 10 | MAE Train Loss: 0.1976713240146637 |MAE Test Loss: 0.3463551998138428\n",
      "Epoch: 20 | MAE Train Loss: 0.08908725529909134 |MAE Test Loss: 0.21729660034179688\n",
      "Epoch: 30 | MAE Train Loss: 0.053148526698350906 |MAE Test Loss: 0.14464017748832703\n",
      "Epoch: 40 | MAE Train Loss: 0.04543796554207802 |MAE Test Loss: 0.11360953003168106\n",
      "Epoch: 50 | MAE Train Loss: 0.04167863354086876 |MAE Test Loss: 0.09919948130846024\n",
      "Epoch: 60 | MAE Train Loss: 0.03818932920694351 |MAE Test Loss: 0.08886633068323135\n",
      "Epoch: 70 | MAE Train Loss: 0.03476089984178543 |MAE Test Loss: 0.0805937647819519\n",
      "Epoch: 80 | MAE Train Loss: 0.03132382780313492 |MAE Test Loss: 0.07232122868299484\n",
      "Epoch: 90 | MAE Train Loss: 0.02788739837706089 |MAE Test Loss: 0.06473556160926819\n"
     ]
    }
   ],
   "source": [
    "torch.manual_seed(42)\n",
    "epochs = 100\n",
    "#creat emptyloss lists to track values\n",
    "train_loss_values = []\n",
    "test_loss_values = []\n",
    "epoch_count = []\n",
    "\n",
    "for epoch in range(epochs):\n",
    "    model_0.train()\n",
    "    #1. forward pass on train data using the forward()method inside\n",
    "    Y_pred = model_0(X_train)\n",
    "    #2. calculate the loss\n",
    "    loss = loss_fn(Y_pred, Y_train)\n",
    "    #3.zero gradient of the optimizer\n",
    "    optimizer.zero_grad()\n",
    "    #4.\n",
    "    loss.backward()\n",
    "    #5.progress the optimizer\n",
    "    optimizer.step()\n",
    "\n",
    "    ##TESTING\n",
    "    #set model in evaluation mode\n",
    "    model_0.eval()\n",
    "    with torch.inference_mode():\n",
    "        #1 forward pass on test data\n",
    "        test_pred = model_0(X_test)\n",
    "        #2\n",
    "        test_loss = loss_fn(test_pred, Y_test.type(torch.float))\n",
    "        #\n",
    "        if epoch % 10 ==0:\n",
    "            epoch_count.append(epoch)\n",
    "            train_loss_values.append(loss.detach().numpy())\n",
    "            test_loss_values.append(test_loss.detach().numpy())\n",
    "            print(f\"Epoch: {epoch} | MAE Train Loss: {loss} |MAE Test Loss: {test_loss}\")\n",
    "\n",
    "\n",
    "\n"
   ]
  },
  {
   "cell_type": "code",
   "execution_count": 47,
   "metadata": {},
   "outputs": [
    {
     "data": {
      "image/png": "[encoded data removed]",
      "text/plain": [
       "<Figure size 640x480 with 1 Axes>"
      ]
     },
     "metadata": {},
     "output_type": "display_data"
    }
   ],
   "source": [
    "#plotting loss curves\n",
    "plt.plot(epoch_count, train_loss_values, label =\"Train loss\")\n",
    "plt.plot(epoch_count,test_loss_values, label = \"Test loss\")\n",
    "plt.title(\"Training and test loss curves\")\n",
    "plt.ylabel(\"loss\")\n",
    "plt.xlabel(\"epochs\")\n",
    "plt.legend();\n"
   ]
  },
  {
   "cell_type": "code",
   "execution_count": 48,
   "metadata": {},
   "outputs": [
    {
     "name": "stdout",
     "output_type": "stream",
     "text": [
      "The model learned the following weights and bias:\n",
      "OrderedDict([('weights', tensor([0.5784])), ('bias', tensor([0.3513]))])\n",
      "\n",
      " the original values for weights&bias were:\n",
      "weights: 0.7, bias: 0.3\n"
     ]
    }
   ],
   "source": [
    "#how close does our model get to the original values (weight$bias)\n",
    "print(\"The model learned the following weights and bias:\")\n",
    "print(model_0.state_dict())\n",
    "print(\"\\n the original values for weights&bias were:\")\n",
    "print(f\"weights: {weight}, bias: {bias}\")"
   ]
  },
  {
   "attachments": {},
   "cell_type": "markdown",
   "metadata": {},
   "source": [
    "4.Inference - Making predictions with a pretrained PyTorch model\n",
    "\n",
    "\n",
    "\n",
    "Things to note when making predictions with a PyTorch model:\n",
    "    1. set the model in evaluation mode (model.eval())\n",
    "    2. make predictions using the inference mode context manager  (torch.inference_mode(): ...)\n",
    "    3. all predictions should be made on the same device CPU or GPU\n",
    "\n"
   ]
  },
  {
   "cell_type": "code",
   "execution_count": 49,
   "metadata": {},
   "outputs": [
    {
     "data": {
      "text/plain": [
       "tensor([0.8141, 0.8256, 0.8372, 0.8488, 0.8603, 0.8719, 0.8835, 0.8950, 0.9066,\n",
       "        0.9182])"
      ]
     },
     "execution_count": 49,
     "metadata": {},
     "output_type": "execute_result"
    }
   ],
   "source": [
    "#make preictions on  the trained model\n",
    "#1. settingthe model in evaluation mode\n",
    "model_0.eval()\n",
    "#2. setting up inference mode context manager\n",
    "with torch.inference_mode():\n",
    "    Y_preds = model_0(X_test)\n",
    "Y_preds\n"
   ]
  },
  {
   "cell_type": "code",
   "execution_count": 50,
   "metadata": {},
   "outputs": [
    {
     "data": {
      "image/png": "[encoded data removed]",
      "text/plain": [
       "<Figure size 1000x700 with 1 Axes>"
      ]
     },
     "metadata": {},
     "output_type": "display_data"
    }
   ],
   "source": [
    "plot_predictions(predictions=Y_preds)"
   ]
  },
  {
   "attachments": {},
   "cell_type": "markdown",
   "metadata": {},
   "source": [
    "5. Saving and loading a PyTorch model\n",
    "\n",
    "\n",
    "\n",
    "1. torch.save:  saves a serialized object to disk (models,tensors,objects...)\n",
    "\n",
    "2. torch.load   deserialize and load pickled python object files\n",
    "\n",
    "3. torch.nn.Module.load_state_dict  loads a model's parameter dictionary (model.state_dict()) using a saved state_dict() object"
   ]
  },
  {
   "attachments": {},
   "cell_type": "markdown",
   "metadata": {},
   "source": [
    "##saving a PyTorch's model's state_dict()\n",
    " recommended way--->>saving&loading a model's state_dict()\n",
    "    i. create a dir fr saving models tocalled models using pathlib module\n",
    "    ii. create a file path to save the model to\n",
    "    iii. call torch.save(obj, f)\n",
    "            obj = target model's state_dict()\n",
    "            f = filename of where to save the model"
   ]
  },
  {
   "cell_type": "code",
   "execution_count": 51,
   "metadata": {},
   "outputs": [
    {
     "name": "stdout",
     "output_type": "stream",
     "text": [
      "Saving model to: models\\01_pytorch_workflow_model_0.pt\n"
     ]
    }
   ],
   "source": [
    "from pathlib import Path\n",
    "#creating models dir\n",
    "MODEL_PATH = Path(\"models\")\n",
    "MODEL_PATH.mkdir(parents=True, exist_ok=True)\n",
    "#create model save path\n",
    "MODEL_NAME = \"01_pytorch_workflow_model_0.pt\"\n",
    "MODEL_SAVE_PATH = MODEL_PATH / MODEL_NAME\n",
    "#saving the model state dict\n",
    "print(f\"Saving model to: {MODEL_SAVE_PATH}\")\n",
    "torch.save(obj=model_0.state_dict(), #only saves the model's learned parameters\n",
    "           f=MODEL_SAVE_PATH ) "
   ]
  },
  {
   "cell_type": "code",
   "execution_count": 56,
   "metadata": {},
   "outputs": [
    {
     "data": {
      "text/plain": [
       "<All keys matched successfully>"
      ]
     },
     "execution_count": 56,
     "metadata": {},
     "output_type": "execute_result"
    }
   ],
   "source": [
    "#loading a saved model\n",
    "#instantiate(with random weights) a new instance of our model\n",
    "loaded_model_0 = LinearRegressionModel()\n",
    "#load state_dict of our saved model (will update the new instance of our model with trained weights)\n",
    "loaded_model_0.load_state_dict(torch.load(f=MODEL_SAVE_PATH))\n"
   ]
  },
  {
   "attachments": {},
   "cell_type": "markdown",
   "metadata": {},
   "source": [
    "Now, test our loade model by perfoming inference on the test data"
   ]
  },
  {
   "cell_type": "code",
   "execution_count": 57,
   "metadata": {},
   "outputs": [],
   "source": [
    "#1. putting loaded model into evaluation mode\n",
    "loaded_model_0.eval()\n",
    "#2. using the inference mode context manger to make predictions\n",
    "with torch.inference_mode():\n",
    "    loaded_model_preds = loaded_model_0(X_test) #perfom forward pass on the test data"
   ]
  },
  {
   "cell_type": "code",
   "execution_count": 58,
   "metadata": {},
   "outputs": [
    {
     "data": {
      "text/plain": [
       "tensor([True, True, True, True, True, True, True, True, True, True])"
      ]
     },
     "execution_count": 58,
     "metadata": {},
     "output_type": "execute_result"
    }
   ],
   "source": [
    "#compare previous modelpredictions with loaded model predictions\n",
    "Y_preds == loaded_model_preds"
   ]
  },
  {
   "attachments": {},
   "cell_type": "markdown",
   "metadata": {},
   "source": [
    "6. Putting it all together"
   ]
  },
  {
   "cell_type": "code",
   "execution_count": 59,
   "metadata": {},
   "outputs": [],
   "source": [
    "#import libraries\n",
    "import torch\n",
    "from torch import nn\n",
    "import matplotlib.pyplot as plt"
   ]
  },
  {
   "cell_type": "code",
   "execution_count": 60,
   "metadata": {},
   "outputs": [
    {
     "name": "stdout",
     "output_type": "stream",
     "text": [
      "Usind device: cpu\n"
     ]
    }
   ],
   "source": [
    "#setting up device agnostic code\n",
    "device = \"cuda\" if torch.cuda.is_available() else \"cpu\"\n",
    "print (f\"Usind device: {device}\")"
   ]
  },
  {
   "cell_type": "code",
   "execution_count": 61,
   "metadata": {},
   "outputs": [
    {
     "data": {
      "text/plain": [
       "(tensor([[0.0000],\n",
       "         [0.0200],\n",
       "         [0.0400],\n",
       "         [0.0600],\n",
       "         [0.0800],\n",
       "         [0.1000],\n",
       "         [0.1200],\n",
       "         [0.1400],\n",
       "         [0.1600],\n",
       "         [0.1800]]),\n",
       " tensor([[0.3000],\n",
       "         [0.3140],\n",
       "         [0.3280],\n",
       "         [0.3420],\n",
       "         [0.3560],\n",
       "         [0.3700],\n",
       "         [0.3840],\n",
       "         [0.3980],\n",
       "         [0.4120],\n",
       "         [0.4260]]))"
      ]
     },
     "execution_count": 61,
     "metadata": {},
     "output_type": "execute_result"
    }
   ],
   "source": [
    "#6.1\n",
    "#create weight and bias\n",
    "weight = 0.7\n",
    "bias = 0.3\n",
    "#create range values\n",
    "start = 0\n",
    "end = 1\n",
    "step = 0.02\n",
    "#create X and Y (features & labels)\n",
    "X = torch.arange(start,end,step).unsqueeze(dim=1)\n",
    "Y = weight*X + bias\n",
    "X[:10], Y[:10]\n"
   ]
  },
  {
   "cell_type": "code",
   "execution_count": 66,
   "metadata": {},
   "outputs": [
    {
     "data": {
      "text/plain": [
       "(40, 40, 10, 10)"
      ]
     },
     "execution_count": 66,
     "metadata": {},
     "output_type": "execute_result"
    }
   ],
   "source": [
    "#splitting data\n",
    "train_split = int(0.8*len(X))\n",
    "X_train, Y_train = X[:train_split],Y[:train_split]\n",
    "X_test, Y_test = X[train_split:], Y[train_split:]\n",
    "\n",
    "len(X_train), len(Y_train), len(X_test), len(Y_test)"
   ]
  },
  {
   "cell_type": "code",
   "execution_count": 67,
   "metadata": {},
   "outputs": [
    {
     "data": {
      "image/png": "[encoded data removed]",
      "text/plain": [
       "<Figure size 1000x700 with 1 Axes>"
      ]
     },
     "metadata": {},
     "output_type": "display_data"
    }
   ],
   "source": [
    "#visualize\n",
    "plot_predictions(X_train, Y_train, X_test, Y_test)"
   ]
  },
  {
   "cell_type": "code",
   "execution_count": 74,
   "metadata": {},
   "outputs": [
    {
     "data": {
      "text/plain": [
       "(LinearRegressionModelV2(\n",
       "   (linear_layer): Linear(in_features=1, out_features=1, bias=True)\n",
       " ),\n",
       " <bound method Module.state_dict of LinearRegressionModelV2(\n",
       "   (linear_layer): Linear(in_features=1, out_features=1, bias=True)\n",
       " )>)"
      ]
     },
     "execution_count": 74,
     "metadata": {},
     "output_type": "execute_result"
    }
   ],
   "source": [
    "#6.2 building a pytorch linear model\n",
    "class LinearRegressionModelV2(nn.Module):\n",
    "    def __init__(self):\n",
    "        super().__init__()\n",
    "        #use nn.linear for creating  model parameters\n",
    "        self.linear_layer = nn.Linear(in_features=1, out_features=1)\n",
    "    #def THE FORWARD computation (input data x flows through nn.linear())\n",
    "    def forward(self, X: torch.Tensor) ->torch.Tensor:\n",
    "        return self.linear_layer(X)\n",
    "\n",
    "#\n",
    "torch.manual_seed(42)\n",
    "model_1 = LinearRegressionModelV2()\n",
    "model_1, model_1.state_dict\n",
    "    \n"
   ]
  },
  {
   "cell_type": "code",
   "execution_count": 76,
   "metadata": {},
   "outputs": [
    {
     "data": {
      "text/plain": [
       "device(type='cpu')"
      ]
     },
     "execution_count": 76,
     "metadata": {},
     "output_type": "execute_result"
    }
   ],
   "source": [
    "#check model device\n",
    "next(model_1.parameters()).device"
   ]
  },
  {
   "cell_type": "code",
   "execution_count": 77,
   "metadata": {},
   "outputs": [],
   "source": [
    "#6.3 Training\n",
    "\n",
    "#creating loss function\n",
    "loss_fn = nn.L1Loss()\n",
    "#create optimizer\n",
    "optimizer= torch.optim.SGD(params=model_1.parameters(), lr=0.01)\n"
   ]
  },
  {
   "cell_type": "code",
   "execution_count": 97,
   "metadata": {},
   "outputs": [
    {
     "name": "stdout",
     "output_type": "stream",
     "text": [
      "Epoch: 0 | Train loss: 0.010256484150886536 | Test loss: 0.0003308236482553184\n",
      "Epoch: 100 | Train loss: 0.010256484150886536 | Test loss: 0.0003308236482553184\n",
      "Epoch: 200 | Train loss: 0.010256484150886536 | Test loss: 0.0003308236482553184\n",
      "Epoch: 300 | Train loss: 0.010256484150886536 | Test loss: 0.0003308236482553184\n",
      "Epoch: 400 | Train loss: 0.010256484150886536 | Test loss: 0.0003308236482553184\n",
      "Epoch: 500 | Train loss: 0.010256484150886536 | Test loss: 0.0003308236482553184\n",
      "Epoch: 600 | Train loss: 0.010256484150886536 | Test loss: 0.0003308236482553184\n",
      "Epoch: 700 | Train loss: 0.010256484150886536 | Test loss: 0.0003308236482553184\n",
      "Epoch: 800 | Train loss: 0.010256484150886536 | Test loss: 0.0003308236482553184\n",
      "Epoch: 900 | Train loss: 0.010256484150886536 | Test loss: 0.0003308236482553184\n",
      "Epoch: 1000 | Train loss: 0.010256484150886536 | Test loss: 0.0003308236482553184\n",
      "Epoch: 1100 | Train loss: 0.010256484150886536 | Test loss: 0.0003308236482553184\n",
      "Epoch: 1200 | Train loss: 0.010256484150886536 | Test loss: 0.0003308236482553184\n",
      "Epoch: 1300 | Train loss: 0.010256484150886536 | Test loss: 0.0003308236482553184\n",
      "Epoch: 1400 | Train loss: 0.010256484150886536 | Test loss: 0.0003308236482553184\n",
      "Epoch: 1500 | Train loss: 0.010256484150886536 | Test loss: 0.0003308236482553184\n",
      "Epoch: 1600 | Train loss: 0.010256484150886536 | Test loss: 0.0003308236482553184\n",
      "Epoch: 1700 | Train loss: 0.010256484150886536 | Test loss: 0.0003308236482553184\n",
      "Epoch: 1800 | Train loss: 0.010256484150886536 | Test loss: 0.0003308236482553184\n",
      "Epoch: 1900 | Train loss: 0.010256484150886536 | Test loss: 0.0003308236482553184\n",
      "Epoch: 2000 | Train loss: 0.010256484150886536 | Test loss: 0.0003308236482553184\n",
      "Epoch: 2100 | Train loss: 0.010256484150886536 | Test loss: 0.0003308236482553184\n",
      "Epoch: 2200 | Train loss: 0.010256484150886536 | Test loss: 0.0003308236482553184\n",
      "Epoch: 2300 | Train loss: 0.010256484150886536 | Test loss: 0.0003308236482553184\n",
      "Epoch: 2400 | Train loss: 0.010256484150886536 | Test loss: 0.0003308236482553184\n",
      "Epoch: 2500 | Train loss: 0.010256484150886536 | Test loss: 0.0003308236482553184\n",
      "Epoch: 2600 | Train loss: 0.010256484150886536 | Test loss: 0.0003308236482553184\n",
      "Epoch: 2700 | Train loss: 0.010256484150886536 | Test loss: 0.0003308236482553184\n",
      "Epoch: 2800 | Train loss: 0.010256484150886536 | Test loss: 0.0003308236482553184\n",
      "Epoch: 2900 | Train loss: 0.010256484150886536 | Test loss: 0.0003308236482553184\n",
      "Epoch: 3000 | Train loss: 0.010256484150886536 | Test loss: 0.0003308236482553184\n",
      "Epoch: 3100 | Train loss: 0.010256484150886536 | Test loss: 0.0003308236482553184\n",
      "Epoch: 3200 | Train loss: 0.010256484150886536 | Test loss: 0.0003308236482553184\n",
      "Epoch: 3300 | Train loss: 0.010256484150886536 | Test loss: 0.0003308236482553184\n",
      "Epoch: 3400 | Train loss: 0.010256484150886536 | Test loss: 0.0003308236482553184\n",
      "Epoch: 3500 | Train loss: 0.010256484150886536 | Test loss: 0.0003308236482553184\n",
      "Epoch: 3600 | Train loss: 0.010256484150886536 | Test loss: 0.0003308236482553184\n",
      "Epoch: 3700 | Train loss: 0.010256484150886536 | Test loss: 0.0003308236482553184\n",
      "Epoch: 3800 | Train loss: 0.010256484150886536 | Test loss: 0.0003308236482553184\n",
      "Epoch: 3900 | Train loss: 0.010256484150886536 | Test loss: 0.0003308236482553184\n",
      "Epoch: 4000 | Train loss: 0.010256484150886536 | Test loss: 0.0003308236482553184\n",
      "Epoch: 4100 | Train loss: 0.010256484150886536 | Test loss: 0.0003308236482553184\n",
      "Epoch: 4200 | Train loss: 0.010256484150886536 | Test loss: 0.0003308236482553184\n",
      "Epoch: 4300 | Train loss: 0.010256484150886536 | Test loss: 0.0003308236482553184\n",
      "Epoch: 4400 | Train loss: 0.010256484150886536 | Test loss: 0.0003308236482553184\n",
      "Epoch: 4500 | Train loss: 0.010256484150886536 | Test loss: 0.0003308236482553184\n",
      "Epoch: 4600 | Train loss: 0.010256484150886536 | Test loss: 0.0003308236482553184\n",
      "Epoch: 4700 | Train loss: 0.010256484150886536 | Test loss: 0.0003308236482553184\n",
      "Epoch: 4800 | Train loss: 0.010256484150886536 | Test loss: 0.0003308236482553184\n",
      "Epoch: 4900 | Train loss: 0.010256484150886536 | Test loss: 0.0003308236482553184\n",
      "Epoch: 5000 | Train loss: 0.010256484150886536 | Test loss: 0.0003308236482553184\n",
      "Epoch: 5100 | Train loss: 0.010256484150886536 | Test loss: 0.0003308236482553184\n",
      "Epoch: 5200 | Train loss: 0.010256484150886536 | Test loss: 0.0003308236482553184\n",
      "Epoch: 5300 | Train loss: 0.010256484150886536 | Test loss: 0.0003308236482553184\n",
      "Epoch: 5400 | Train loss: 0.010256484150886536 | Test loss: 0.0003308236482553184\n",
      "Epoch: 5500 | Train loss: 0.010256484150886536 | Test loss: 0.0003308236482553184\n",
      "Epoch: 5600 | Train loss: 0.010256484150886536 | Test loss: 0.0003308236482553184\n",
      "Epoch: 5700 | Train loss: 0.010256484150886536 | Test loss: 0.0003308236482553184\n",
      "Epoch: 5800 | Train loss: 0.010256484150886536 | Test loss: 0.0003308236482553184\n",
      "Epoch: 5900 | Train loss: 0.010256484150886536 | Test loss: 0.0003308236482553184\n",
      "Epoch: 6000 | Train loss: 0.010256484150886536 | Test loss: 0.0003308236482553184\n",
      "Epoch: 6100 | Train loss: 0.010256484150886536 | Test loss: 0.0003308236482553184\n",
      "Epoch: 6200 | Train loss: 0.010256484150886536 | Test loss: 0.0003308236482553184\n",
      "Epoch: 6300 | Train loss: 0.010256484150886536 | Test loss: 0.0003308236482553184\n",
      "Epoch: 6400 | Train loss: 0.010256484150886536 | Test loss: 0.0003308236482553184\n",
      "Epoch: 6500 | Train loss: 0.010256484150886536 | Test loss: 0.0003308236482553184\n",
      "Epoch: 6600 | Train loss: 0.010256484150886536 | Test loss: 0.0003308236482553184\n",
      "Epoch: 6700 | Train loss: 0.010256484150886536 | Test loss: 0.0003308236482553184\n",
      "Epoch: 6800 | Train loss: 0.010256484150886536 | Test loss: 0.0003308236482553184\n",
      "Epoch: 6900 | Train loss: 0.010256484150886536 | Test loss: 0.0003308236482553184\n",
      "Epoch: 7000 | Train loss: 0.010256484150886536 | Test loss: 0.0003308236482553184\n",
      "Epoch: 7100 | Train loss: 0.010256484150886536 | Test loss: 0.0003308236482553184\n",
      "Epoch: 7200 | Train loss: 0.010256484150886536 | Test loss: 0.0003308236482553184\n",
      "Epoch: 7300 | Train loss: 0.010256484150886536 | Test loss: 0.0003308236482553184\n",
      "Epoch: 7400 | Train loss: 0.010256484150886536 | Test loss: 0.0003308236482553184\n",
      "Epoch: 7500 | Train loss: 0.010256484150886536 | Test loss: 0.0003308236482553184\n",
      "Epoch: 7600 | Train loss: 0.010256484150886536 | Test loss: 0.0003308236482553184\n",
      "Epoch: 7700 | Train loss: 0.010256484150886536 | Test loss: 0.0003308236482553184\n",
      "Epoch: 7800 | Train loss: 0.010256484150886536 | Test loss: 0.0003308236482553184\n",
      "Epoch: 7900 | Train loss: 0.010256484150886536 | Test loss: 0.0003308236482553184\n",
      "Epoch: 8000 | Train loss: 0.010256484150886536 | Test loss: 0.0003308236482553184\n",
      "Epoch: 8100 | Train loss: 0.010256484150886536 | Test loss: 0.0003308236482553184\n",
      "Epoch: 8200 | Train loss: 0.010256484150886536 | Test loss: 0.0003308236482553184\n",
      "Epoch: 8300 | Train loss: 0.010256484150886536 | Test loss: 0.0003308236482553184\n",
      "Epoch: 8400 | Train loss: 0.010256484150886536 | Test loss: 0.0003308236482553184\n",
      "Epoch: 8500 | Train loss: 0.010256484150886536 | Test loss: 0.0003308236482553184\n",
      "Epoch: 8600 | Train loss: 0.010256484150886536 | Test loss: 0.0003308236482553184\n",
      "Epoch: 8700 | Train loss: 0.010256484150886536 | Test loss: 0.0003308236482553184\n",
      "Epoch: 8800 | Train loss: 0.010256484150886536 | Test loss: 0.0003308236482553184\n",
      "Epoch: 8900 | Train loss: 0.010256484150886536 | Test loss: 0.0003308236482553184\n",
      "Epoch: 9000 | Train loss: 0.010256484150886536 | Test loss: 0.0003308236482553184\n",
      "Epoch: 9100 | Train loss: 0.010256484150886536 | Test loss: 0.0003308236482553184\n",
      "Epoch: 9200 | Train loss: 0.010256484150886536 | Test loss: 0.0003308236482553184\n",
      "Epoch: 9300 | Train loss: 0.010256484150886536 | Test loss: 0.0003308236482553184\n",
      "Epoch: 9400 | Train loss: 0.010256484150886536 | Test loss: 0.0003308236482553184\n",
      "Epoch: 9500 | Train loss: 0.010256484150886536 | Test loss: 0.0003308236482553184\n",
      "Epoch: 9600 | Train loss: 0.010256484150886536 | Test loss: 0.0003308236482553184\n",
      "Epoch: 9700 | Train loss: 0.010256484150886536 | Test loss: 0.0003308236482553184\n",
      "Epoch: 9800 | Train loss: 0.010256484150886536 | Test loss: 0.0003308236482553184\n",
      "Epoch: 9900 | Train loss: 0.010256484150886536 | Test loss: 0.0003308236482553184\n"
     ]
    }
   ],
   "source": [
    "torch.manual_seed(42)\n",
    "\n",
    "epochs=10000\n",
    "\n",
    "for epoch in range(epochs):\n",
    "    model_1.train() #training\n",
    "    Y_pred =model_1(X_train) #forward pass\n",
    "    loss = loss_fn(Y_pred, Y_train) #calc loss\n",
    "    optimizer.zero_grad() #zero grad optimizer\n",
    "    loss.backward() #loss backward\n",
    "    optimizer.step() #step the optimizer\n",
    "    model_1.eval() #put model in evalaution mode for inference/testing\n",
    "    with torch.inference_mode():\n",
    "        test_pred = model_1(X_test) #forward pass\n",
    "        test_loss = loss_fn(test_pred, Y_test) #calc the loss\n",
    "    if epoch % 100 == 0:\n",
    "        print(f\"Epoch: {epoch} | Train loss: {loss} | Test loss: {test_loss}\")\n",
    "\n"
   ]
  },
  {
   "cell_type": "code",
   "execution_count": 99,
   "metadata": {},
   "outputs": [
    {
     "name": "stdout",
     "output_type": "stream",
     "text": [
      "The model learnt:\n",
      "OrderedDict([('linear_layer.weight', tensor([[0.6929]])),\n",
      "             ('linear_layer.bias', tensor([0.2925]))])\n",
      "\n",
      " orignal values were:\n",
      "'weights: 0.7, bias: 0.3'\n"
     ]
    }
   ],
   "source": [
    "#\n",
    "from pprint import pprint  #pretty print\n",
    "print(\"The model learnt:\")\n",
    "pprint(model_1.state_dict())\n",
    "print(\"\\n orignal values were:\")\n",
    "pprint(f\"weights: {weight}, bias: {bias}\")"
   ]
  },
  {
   "cell_type": "code",
   "execution_count": 100,
   "metadata": {},
   "outputs": [
    {
     "data": {
      "text/plain": [
       "tensor([[0.8468],\n",
       "        [0.8607],\n",
       "        [0.8746],\n",
       "        [0.8884],\n",
       "        [0.9023],\n",
       "        [0.9161],\n",
       "        [0.9300],\n",
       "        [0.9438],\n",
       "        [0.9577],\n",
       "        [0.9716]])"
      ]
     },
     "execution_count": 100,
     "metadata": {},
     "output_type": "execute_result"
    }
   ],
   "source": [
    "#6.4 Making predictions\n",
    "\n",
    "\n",
    "#set model in evaluation mode\n",
    "model_1.eval()\n",
    "#making predictions on the test data\n",
    "with torch.inference_mode():\n",
    "    y_preds = model_1(X_test)\n",
    "y_preds"
   ]
  },
  {
   "cell_type": "code",
   "execution_count": 101,
   "metadata": {},
   "outputs": [
    {
     "data": {
      "image/png": "[encoded data removed]",
      "text/plain": [
       "<Figure size 1000x700 with 1 Axes>"
      ]
     },
     "metadata": {},
     "output_type": "display_data"
    }
   ],
   "source": [
    "#plotting predictions\n",
    "plot_predictions(predictions= y_preds)"
   ]
  },
  {
   "cell_type": "code",
   "execution_count": 102,
   "metadata": {},
   "outputs": [
    {
     "name": "stdout",
     "output_type": "stream",
     "text": [
      "Saving model to: models\\01_pytorch_workflow_model_1.pt\n"
     ]
    }
   ],
   "source": [
    "#6.5 Saving and loading model\n",
    "from pathlib import Path\n",
    "\n",
    "#create model dir\n",
    "MODEL_PATH = Path(\"models\")\n",
    "MODEL_PATH.mkdir(parents=True, exist_ok=True)\n",
    "#create modelsave apth\n",
    "MODEL_NAME = \"01_pytorch_workflow_model_1.pt\"\n",
    "MODEL_SAVE_PATH = MODEL_PATH / MODEL_NAME\n",
    "#creating the model state dict\n",
    "print(f\"Saving model to: {MODEL_SAVE_PATH}\")\n",
    "torch.save(obj=model_1.state_dict(),  # only saving modeels learned parameters first\n",
    "           f = MODEL_SAVE_PATH)\n"
   ]
  },
  {
   "cell_type": "code",
   "execution_count": 103,
   "metadata": {},
   "outputs": [
    {
     "name": "stdout",
     "output_type": "stream",
     "text": [
      "loaded model: LinearRegressionModelV2(\n",
      "  (linear_layer): Linear(in_features=1, out_features=1, bias=True)\n",
      ")\n",
      "Model on device: \n",
      " cpu\n"
     ]
    }
   ],
   "source": [
    "#fresh instance of LinearRegressionModelV2\n",
    "loaded_model_1 = LinearRegressionModelV2()\n",
    "#model state dict()\n",
    "loaded_model_1.load_state_dict(torch.load(MODEL_SAVE_PATH))\n",
    "#\n",
    "print(f\"loaded model: {loaded_model_1}\")\n",
    "print(f\"Model on device: \\n {next(loaded_model_1.parameters()).device}\")"
   ]
  },
  {
   "cell_type": "code",
   "execution_count": 104,
   "metadata": {},
   "outputs": [
    {
     "data": {
      "text/plain": [
       "tensor([[True],\n",
       "        [True],\n",
       "        [True],\n",
       "        [True],\n",
       "        [True],\n",
       "        [True],\n",
       "        [True],\n",
       "        [True],\n",
       "        [True],\n",
       "        [True]])"
      ]
     },
     "execution_count": 104,
     "metadata": {},
     "output_type": "execute_result"
    }
   ],
   "source": [
    "#evaluate loaded model\n",
    "loaded_model_1.eval()\n",
    "with torch.inference_mode():\n",
    "    loaded_model_1_preds = loaded_model_1(X_test)\n",
    "y_preds == loaded_model_1_preds"
   ]
  },
  {
   "attachments": {},
   "cell_type": "markdown",
   "metadata": {},
   "source": [
    "\n",
    "\n",
    "\n",
    "\n",
    "\n",
    "\n",
    "\n",
    "\n",
    "\n",
    "\n",
    "\n",
    "\n",
    "\n",
    "\n"
   ]
  }
 ],
 "metadata": {
  "kernelspec": {
   "display_name": "base",
   "language": "python",
   "name": "python3"
  },
  "language_info": {
   "codemirror_mode": {
    "name": "ipython",
    "version": 3
   },
   "file_extension": ".py",
   "mimetype": "text/x-python",
   "name": "python",
   "nbconvert_exporter": "python",
   "pygments_lexer": "ipython3",
   "version": "3.11.1"
  },
  "orig_nbformat": 4
 },
 "nbformat": 4,
 "nbformat_minor": 2
}
